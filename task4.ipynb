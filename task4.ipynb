{
  "nbformat": 4,
  "nbformat_minor": 0,
  "metadata": {
    "colab": {
      "provenance": [],
      "authorship_tag": "ABX9TyODNhebwKow04QvFmyUhB93",
      "include_colab_link": true
    },
    "kernelspec": {
      "name": "python3",
      "display_name": "Python 3"
    },
    "language_info": {
      "name": "python"
    }
  },
  "cells": [
    {
      "cell_type": "markdown",
      "metadata": {
        "id": "view-in-github",
        "colab_type": "text"
      },
      "source": [
        "<a href=\"https://colab.research.google.com/github/rohitha077/CODSOFT/blob/main/task4.ipynb\" target=\"_parent\"><img src=\"https://colab.research.google.com/assets/colab-badge.svg\" alt=\"Open In Colab\"/></a>"
      ]
    },
    {
      "cell_type": "code",
      "execution_count": null,
      "metadata": {
        "colab": {
          "base_uri": "https://localhost:8080/"
        },
        "id": "hXGsQXh7FeRf",
        "outputId": "b6a5aae5-f56a-422b-f362-d32467da6d12"
      },
      "outputs": [
        {
          "output_type": "stream",
          "name": "stdout",
          "text": [
            "Movie Recommendations for User 1:\n",
            "- Pulp Fiction (predicted rating: 1.33)\n",
            "- Forrest Gump (predicted rating: 1.0)\n",
            "\n",
            "Movie Recommendations for User 3:\n",
            "- Forrest Gump (predicted rating: 2.67)\n",
            "- The Dark Knight (predicted rating: 2.0)\n",
            "\n",
            "Movie Recommendations for User 5:\n",
            "- The Shawshank Redemption (predicted rating: 2.33)\n",
            "- The Godfather (predicted rating: 2.33)\n"
          ]
        }
      ],
      "source": [
        "import numpy as np\n",
        "import pandas as pd\n",
        "from sklearn.metrics.pairwise import cosine_similarity\n",
        "from sklearn.neighbors import NearestNeighbors\n",
        "\n",
        "data = {\n",
        "    'user_id': [1, 1, 1, 2, 2, 3, 3, 3, 4, 4, 5, 5, 5, 6, 6],\n",
        "    'movie_id': [101, 102, 103, 101, 103, 101, 102, 104, 102, 105, 103, 104, 105, 101, 105],\n",
        "    'rating': [5, 4, 3, 4, 5, 3, 2, 4, 5, 4, 3, 5, 5, 4, 3]\n",
        "}\n",
        "\n",
        "movies = {\n",
        "    101: 'The Shawshank Redemption',\n",
        "    102: 'The Godfather',\n",
        "    103: 'The Dark Knight',\n",
        "    104: 'Pulp Fiction',\n",
        "    105: 'Forrest Gump'\n",
        "}\n",
        "\n",
        "df = pd.DataFrame(data)\n",
        "\n",
        "user_item_matrix = df.pivot_table(index='user_id', columns='movie_id', values='rating').fillna(0)\n",
        "\n",
        "def get_movie_recommendations(user_id, num_recommendations=3):\n",
        "    model_knn = NearestNeighbors(metric='cosine', algorithm='brute')\n",
        "    model_knn.fit(user_item_matrix)\n",
        "\n",
        "    distances, indices = model_knn.kneighbors(\n",
        "        user_item_matrix.iloc[user_id-1:user_id, :],\n",
        "        n_neighbors=num_recommendations+1\n",
        "    )\n",
        "\n",
        "    similar_users = indices.flatten()[1:]\n",
        "    recommendations = user_item_matrix.iloc[similar_users].mean(axis=0)\n",
        "\n",
        "    user_rated = user_item_matrix.iloc[user_id-1] > 0\n",
        "    recommendations = recommendations[~user_rated]\n",
        "\n",
        "    recommendations = recommendations.sort_values(ascending=False)\n",
        "\n",
        "    recommended_movies = [(movies[movie_id], round(score, 2))\n",
        "                         for movie_id, score in recommendations.head(num_recommendations).items()]\n",
        "\n",
        "    return recommended_movies\n",
        "\n",
        "print(\"Movie Recommendations for User 1:\")\n",
        "for movie, score in get_movie_recommendations(1):\n",
        "    print(f\"- {movie} (predicted rating: {score})\")\n",
        "\n",
        "print(\"\\nMovie Recommendations for User 3:\")\n",
        "for movie, score in get_movie_recommendations(3):\n",
        "    print(f\"- {movie} (predicted rating: {score})\")\n",
        "\n",
        "print(\"\\nMovie Recommendations for User 5:\")\n",
        "for movie, score in get_movie_recommendations(5):\n",
        "    print(f\"- {movie} (predicted rating: {score})\")"
      ]
    }
  ]
}