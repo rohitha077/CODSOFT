{
  "cells": [
    {
      "cell_type": "markdown",
      "metadata": {
        "id": "view-in-github",
        "colab_type": "text"
      },
      "source": [
        "<a href=\"https://colab.research.google.com/github/rohitha077/CODSOFT/blob/main/codsoft1.ipynb\" target=\"_parent\"><img src=\"https://colab.research.google.com/assets/colab-badge.svg\" alt=\"Open In Colab\"/></a>"
      ]
    },
    {
      "cell_type": "code",
      "execution_count": null,
      "metadata": {
        "colab": {
          "base_uri": "https://localhost:8080/"
        },
        "id": "x6Vhv_ZjqAy-",
        "outputId": "8d5bbf31-81f6-45c1-f0a7-c20bf79c92d7"
      },
      "outputs": [
        {
          "name": "stdout",
          "output_type": "stream",
          "text": [
            "AI Chatbot: Hello! I can answer questions about Artificial Intelligence.\n",
            "Type 'help' for options or 'quit' to exit.\n",
            "\n",
            "You: help\n",
            "\n",
            "AI Chatbot: I can explain these topics:\n",
            "- What is ai\n",
            "- Types of ai\n",
            "- Machine learning\n",
            "- Neural network\n",
            "- Examples of ai\n",
            "- Future of ai\n",
            "- Ai dangers\n",
            "\n",
            "Try asking: 'What is AI?' or 'Tell me about machine learning'\n",
            "\n",
            "You: what is ai\n",
            "AI Chatbot: AI (Artificial Intelligence) is the simulation of human intelligence in machines.\n",
            "You: examples of ai\n",
            "AI Chatbot: Examples: ChatGPT, self-driving cars, facial recognition, recommendation systems.\n",
            "You: ai dangers\n",
            "AI Chatbot: Potential risks include job displacement, bias in algorithms, and security concerns.\n",
            "You: quit\n",
            "AI Chatbot: Goodbye! Learn more about AI!\n"
          ]
        }
      ],
      "source": [
        "def ai_chatbot():\n",
        "    print(\"AI Chatbot: Hello! I can answer questions about Artificial Intelligence.\")\n",
        "    print(\"Type 'help' for options or 'quit' to exit.\\n\")\n",
        "\n",
        "    ai_knowledge = {\n",
        "        \"what is ai\": \"AI (Artificial Intelligence) is the simulation of human intelligence in machines.\",\n",
        "        \"types of ai\": \"1. Narrow AI (e.g., Siri)\\n2. General AI (hypothetical)\\n3. Super AI (theoretical)\",\n",
        "        \"machine learning\": \"Machine Learning is a subset of AI where systems learn from data without explicit programming.\",\n",
        "        \"neural network\": \"Neural networks are computing systems inspired by biological neural networks.\",\n",
        "        \"examples of ai\": \"Examples: ChatGPT, self-driving cars, facial recognition, recommendation systems.\",\n",
        "        \"future of ai\": \"AI may transform healthcare, education, and transportation, but raises ethical questions.\",\n",
        "        \"ai dangers\": \"Potential risks include job displacement, bias in algorithms, and security concerns.\"\n",
        "    }\n",
        "\n",
        "    while True:\n",
        "        user_input = input(\"You: \").lower().strip()\n",
        "\n",
        "        if user_input in ['quit', 'exit', 'bye']:\n",
        "            print(\"AI Chatbot: Goodbye! Learn more about AI!\")\n",
        "            break\n",
        "\n",
        "        elif user_input == 'help':\n",
        "            print(\"\\nAI Chatbot: I can explain these topics:\")\n",
        "            for topic in ai_knowledge:\n",
        "                print(f\"- {topic.capitalize()}\")\n",
        "            print(\"\\nTry asking: 'What is AI?' or 'Tell me about machine learning'\\n\")\n",
        "\n",
        "        elif any(key in user_input for key in ai_knowledge):\n",
        "            matched_key = next(key for key in ai_knowledge if key in user_input)\n",
        "            print(f\"AI Chatbot: {ai_knowledge[matched_key]}\")\n",
        "\n",
        "        elif 'ai' in user_input or 'artificial intelligence' in user_input:\n",
        "            print(\"AI Chatbot: I can answer specific questions about AI. Try asking:\")\n",
        "            print(\"- What is AI?\")\n",
        "            print(\"- What are some examples of AI?\")\n",
        "\n",
        "        else:\n",
        "            print(\"AI Chatbot: I only answer AI-related questions. Type 'help' for options.\")\n",
        "\n",
        "ai_chatbot()"
      ]
    }
  ],
  "metadata": {
    "colab": {
      "provenance": [],
      "authorship_tag": "ABX9TyO1V/R6AQQmi9M1dkSHsFpu",
      "include_colab_link": true
    },
    "kernelspec": {
      "display_name": "Python 3",
      "name": "python3"
    },
    "language_info": {
      "name": "python"
    }
  },
  "nbformat": 4,
  "nbformat_minor": 0
}